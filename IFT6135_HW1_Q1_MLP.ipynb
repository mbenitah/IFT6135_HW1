{
 "cells": [
  {
   "cell_type": "markdown",
   "metadata": {
    "colab_type": "text",
    "id": "mWocLT5lb8k6"
   },
   "source": [
    "# Initialization"
   ]
  },
  {
   "cell_type": "code",
   "execution_count": 1,
   "metadata": {
    "colab": {},
    "colab_type": "code",
    "id": "Hnxs2mAzP3Lj"
   },
   "outputs": [],
   "source": [
    "# Loading\n",
    "import torch\n",
    "from torchvision import datasets, transforms, utils\n",
    "\n",
    "# ---- Visualizing\n",
    "import matplotlib.pyplot as plt\n",
    "import numpy as np"
   ]
  },
  {
   "cell_type": "markdown",
   "metadata": {
    "colab_type": "text",
    "id": "ny_q0VgiPXZK"
   },
   "source": [
    "# Loading Data"
   ]
  },
  {
   "cell_type": "code",
   "execution_count": 2,
   "metadata": {
    "colab": {},
    "colab_type": "code",
    "id": "YNxrfI77yZrI"
   },
   "outputs": [],
   "source": [
    "BATCH_SIZE = 16\n",
    "N_EPOCHS = 10\n",
    "\n",
    "transform = transforms.Compose(\n",
    "    [transforms.ToTensor(),\n",
    "#     transforms.Normalize((0.1307,), (0.3081,))\n",
    "    ])\n",
    "\n",
    "transform = transforms.Compose(\n",
    "    [transforms.ToTensor(),\n",
    "#     transforms.Normalize((0.1307,), (0.3081,))\n",
    "    ])\n",
    "\n",
    "trainset = datasets.MNIST(root='../data', train=True,\n",
    "                                        download=True, transform=transform)\n",
    "trainloader = torch.utils.data.DataLoader(trainset, batch_size=BATCH_SIZE,\n",
    "                                          shuffle=False, num_workers=2)\n",
    "\n",
    "testset = datasets.MNIST(root='../data', train=False,\n",
    "                                       download=True, transform=transform)\n",
    "testloader = torch.utils.data.DataLoader(testset, batch_size=BATCH_SIZE,\n",
    "                                         shuffle=False, num_workers=2)   "
   ]
  },
  {
   "cell_type": "markdown",
   "metadata": {
    "colab_type": "text",
    "id": "Rlwg2MwuPkvX"
   },
   "source": [
    "## Visualizing some samples"
   ]
  },
  {
   "cell_type": "code",
   "execution_count": 3,
   "metadata": {
    "colab": {
     "base_uri": "https://localhost:8080/",
     "height": 199
    },
    "colab_type": "code",
    "id": "EQx0iDxMPsKu",
    "outputId": "5082b189-a5da-46a3-90c4-079aa7a2f481"
   },
   "outputs": [
    {
     "name": "stdout",
     "output_type": "stream",
     "text": [
      "Labels:  tensor([5, 0, 4, 1, 9, 2, 1, 3, 1, 4, 3, 5, 3, 6, 1, 7])\n",
      "Batch shape:  torch.Size([16, 1, 28, 28])\n"
     ]
    },
    {
     "data": {
      "image/png": "[encoded data removed]",
      "text/plain": [
       "<Figure size 432x288 with 1 Axes>"
      ]
     },
     "metadata": {
      "needs_background": "light"
     },
     "output_type": "display_data"
    }
   ],
   "source": [
    "# functions to show an image\n",
    "\n",
    "def show_batch(batch):\n",
    "    im = utils.make_grid(batch)\n",
    "    plt.imshow(np.transpose(im.numpy(), (1, 2, 0)))\n",
    "    \n",
    "    \n",
    "dataiter = iter(trainloader)\n",
    "images, labels = dataiter.next()\n",
    "\n",
    "print('Labels: ', labels)\n",
    "print('Batch shape: ', images.size())\n",
    "show_batch(images)    \n",
    "    \n"
   ]
  },
  {
   "cell_type": "markdown",
   "metadata": {
    "colab_type": "text",
    "id": "ZOTIOAzlZetw"
   },
   "source": [
    "# Creating a MLP"
   ]
  },
  {
   "cell_type": "code",
   "execution_count": 4,
   "metadata": {
    "colab": {},
    "colab_type": "code",
    "id": "MK9SEAO9Y8vP"
   },
   "outputs": [],
   "source": [
    "def relu(x):\n",
    "    return (x > 0) * x\n",
    "\n",
    "\n",
    "def softmax(x, axis=1):\n",
    "    '''Returns a matrix of size n_sample * n_features.'''\n",
    "    e_x = np.exp(x - np.max(x, axis=axis, keepdims=True))\n",
    "    return e_x / e_x.sum(axis=axis, keepdims=True)\n",
    "\n",
    "\n",
    "def onehot(y, n_classes):\n",
    "    '''Returns a matrix of size n_samples * n_classes with the one-hot\n",
    "    representation of the category of sample i in line i-th of the matrix,\n",
    "    that is a line full of zeros except for the j-th column that is equal to\n",
    "    1, where j is the class of sample i.\n",
    "    y is a vector of integers between 0 and n_classes - 1.\n",
    "    y may have one or more lines. Each line is the label of each sample.'''\n",
    "    \n",
    "    o = np.zeros(shape=(y.shape[0], n_classes))\n",
    "    for i in range(y.shape[0]):\n",
    "        o[i, int(y[i])] = 1\n",
    "    return o"
   ]
  },
  {
   "cell_type": "code",
   "execution_count": 5,
   "metadata": {
    "colab": {},
    "colab_type": "code",
    "id": "THKS1qwcTgyA"
   },
   "outputs": [],
   "source": [
    "class MLP(object):\n",
    "    \n",
    "#    def __init__(self, d0, d1, d2, d3, mode='train', type='Zeros'\n",
    "#                 datapath=None, model_path=None):\n",
    "    def __init__(self, d0, d1, d2, d3, init_type='Zeros'):\n",
    "\n",
    "        super(MLP, self).__init__()\n",
    "        #self.mode = mode\n",
    "        self.d0 = d0\n",
    "        self.d1 = d1\n",
    "        self.d2 = d2\n",
    "        self.d3 = d3\n",
    "        self.init_type = init_type\n",
    "        \n",
    "        self.W1 = self.initialize_weights(d0, d1, type=self.init_type)\n",
    "        self.W2 = self.initialize_weights(d1, d2, type=self.init_type)\n",
    "        self.W3 = self.initialize_weights(d2, d3, type=self.init_type)\n",
    "        \n",
    "        self.b1 = np.zeros(d1)\n",
    "        self.b2 = np.zeros(d2)\n",
    "        self.b3 = np.zeros(d3)\n",
    "        \n",
    "        self.parameters = [self.b1, self.W1, self.b2, self.W2, self.b3, self.W3]\n",
    "\n",
    "\n",
    "    def initialize_weights(self, in_dim, out_dim, type='Zeros'):\n",
    "        if type == 'Normal':           \n",
    "            return np.random.normal(1, 1, size=(out_dim, in_dim))\n",
    "            \n",
    "        elif type == 'Glorot':\n",
    "            dl = np.sqrt(6 / (in_dim + out_dim))\n",
    "            return np.random.uniform(-dl, dl, size=(out_dim, in_dim))\n",
    "\n",
    "        else:\n",
    "            # Zeros\n",
    "            return np.zeros(shape=(out_dim, in_dim))\n",
    "            #return np.ones(shape=(out_dim, in_dim)) * 1e-3\n",
    "\n",
    "\n",
    "   \n",
    "    def forward(self, x):\n",
    "        h1 = np.dot(x, self.W1.T) + self.b1\n",
    "        a1 = self.activation(h1)\n",
    "        h2 = np.dot(a1, self.W2.T) + self.b2\n",
    "        a2 = self.activation(h2)\n",
    "        o = np.dot(a2, self.W3.T) + self.b3\n",
    "        os = softmax(o, axis=1)\n",
    "        return h1, a1, h2, a2, o, os\n",
    "\n",
    "    \n",
    "    def activation(self, input):\n",
    "        return relu(input)\n",
    "\n",
    "    \n",
    "    def loss(self, os, y):\n",
    "        return (y * (-np.log(os))).sum(axis=1).mean(axis=0)\n",
    "\n",
    "    \n",
    "    def backward(self, y, x, h1, a1, h2, a2, o, os, weight_decay=0):\n",
    "        \n",
    "        n_samples = x.shape[0]\n",
    "        \n",
    "        dl_do = os - y\n",
    "        \n",
    "        dl_da2 = np.dot(dl_do, self.W3)\n",
    "        dl_dh2 = (h2 > 0) * dl_da2\n",
    "        dl_da1 = np.dot(dl_dh2, self.W2)\n",
    "        dl_dh1 = (h1 > 0) * dl_da1\n",
    " \n",
    "        dl_dW3 = np.dot(dl_do.T, a2) / n_samples + weight_decay * self.W3\n",
    "        dl_db3 = dl_do.mean(axis=0)\n",
    "        dl_dW2 = np.dot(dl_dh2.T, a1) / n_samples + weight_decay * self.W2\n",
    "        dl_db2 = dl_dh2.mean(axis=0)\n",
    "        dl_dW1 = np.dot(dl_dh1.T, x) / n_samples + weight_decay * self.W1\n",
    "        dl_db1 = dl_dh1.mean(axis=0)\n",
    "        \n",
    "        return dl_db1, dl_dW1, dl_db2, dl_dW2, dl_db3, dl_dW3   \n",
    "\n",
    "    \n",
    "#    def update(self,grads,..):\n",
    "\n",
    "        \n",
    "\n",
    "    def train(self, trainloader, n_epochs=10, eta=1e-1, weight_decay=0.):\n",
    "        '''data contains one batch with inputs x and targets y'''\n",
    "        avg_loss = np.zeros(n_epochs)\n",
    "        for epoch in range(n_epochs):  # loop over the dataset multiple times\n",
    "            running_loss = 0.0\n",
    "            for i, data in enumerate(trainloader, 0):\n",
    "                \n",
    "                # get the inputs and labels\n",
    "                x, y = data\n",
    "                \n",
    "                # flatten data\n",
    "                x = x.view(BATCH_SIZE, -1)\n",
    "                \n",
    "                y = onehot(y, 10)\n",
    "                \n",
    "                h1, a1, h2, a2, o, os = self.forward(x)\n",
    "                avg_grads = self.backward(y, x, h1, a1, h2, a2, o, os, weight_decay)\n",
    "                #avg_loss[epoch] = self.loss(os, y)\n",
    "                \n",
    "                # update grads for each parameter\n",
    "                for p, grad in zip(self.parameters, avg_grads):\n",
    "                    p -= eta * grad\n",
    "                            \n",
    "            avg_loss[epoch] = self.loss(os, y)\n",
    "            print('Epoch %2d loss: %.3f' %\n",
    "                      (epoch + 1, avg_loss[epoch]))    \n",
    "        return avg_loss\n",
    "    \n",
    "    \n",
    "    def predict(self, x):\n",
    "        _, _, _, _, _, os = self.forward(x)\n",
    "        return os.argmax(axis=1)\n",
    "\n",
    "    \n",
    "    def test(self, x, y):\n",
    "        _, _, _, _, _, os = self.forward(x)       \n",
    "    "
   ]
  },
  {
   "cell_type": "markdown",
   "metadata": {},
   "source": [
    "# Training"
   ]
  },
  {
   "cell_type": "markdown",
   "metadata": {},
   "source": [
    "During the test phase, we started with a much smaller network, namely we had used $d_1=64$ and $d_2=128$. But we increased it to attain the minimal number of 500,000 parameters. Once we increased it, we immediately obtained an accuracy higher than 97%. At that time, we were always using a batch size of 4 and a learning rate $\\eta=0.1$. We later increased the batch size to 16 to improve performance by reducing the number of batches."
   ]
  },
  {
   "cell_type": "code",
   "execution_count": 6,
   "metadata": {
    "colab": {
     "base_uri": "https://localhost:8080/",
     "height": 34
    },
    "colab_type": "code",
    "id": "zpjfKoeCS1B6",
    "outputId": "9061df19-158d-4f99-8fe3-0091abd723d0"
   },
   "outputs": [
    {
     "name": "stdout",
     "output_type": "stream",
     "text": [
      "Total number of parameters: 669706\n"
     ]
    }
   ],
   "source": [
    "d0 = 28 * 28\n",
    "d1 = 512\n",
    "d2 = 512\n",
    "d3 = 10\n",
    "\n",
    "n_parameters = d0 * d1 + d1 + d1 * d2 + d2 + d2 * d3 + d3\n",
    "print('Total number of parameters: %d' % n_parameters)"
   ]
  },
  {
   "cell_type": "code",
   "execution_count": 7,
   "metadata": {
    "colab": {},
    "colab_type": "code",
    "id": "f3wDhfzaHBk0"
   },
   "outputs": [],
   "source": [
    "def get_accuracy(model):\n",
    "    class_correct = list(0. for i in range(10))\n",
    "    class_total = list(0. for i in range(10))\n",
    "\n",
    "    for data in testloader:\n",
    "        images, labels = data\n",
    "        x = images.view(BATCH_SIZE, -1)\n",
    "        pred = model.predict(x)\n",
    "        c = (pred == labels).squeeze()\n",
    "        for i in range(BATCH_SIZE):\n",
    "            label = labels[i]\n",
    "            class_correct[label] += c[i].item()\n",
    "            class_total[label] += 1\n",
    "\n",
    "    print('Model with %s initialization' % (model.init_type))\n",
    "    for i in range(10):\n",
    "        print('Accuracy of %1s: %.1f%%' % (\n",
    "            i, 100 * class_correct[i] / class_total[i]))\n",
    "\n",
    "    print()\n",
    "    print('Overall accuracy: %.1f%%\\n\\n' %\n",
    "          (100 * sum(class_correct) / sum(class_total)))\n"
   ]
  },
  {
   "cell_type": "code",
   "execution_count": 8,
   "metadata": {
    "colab": {
     "base_uri": "https://localhost:8080/",
     "height": 34
    },
    "colab_type": "code",
    "id": "IDchcMcEHBkx",
    "outputId": "c2e77dc7-12db-4dff-f0f0-891879227894"
   },
   "outputs": [
    {
     "name": "stdout",
     "output_type": "stream",
     "text": [
      "Epoch  1 loss: 2.313\n",
      "Epoch  2 loss: 2.313\n",
      "Epoch  3 loss: 2.313\n",
      "Epoch  4 loss: 2.313\n",
      "Epoch  5 loss: 2.313\n",
      "Epoch  6 loss: 2.313\n",
      "Epoch  7 loss: 2.313\n",
      "Epoch  8 loss: 2.313\n",
      "Epoch  9 loss: 2.313\n",
      "Epoch 10 loss: 2.313\n",
      "Zeros executed in 2.3 minutes\n",
      "\n",
      "Model with Zeros initialization\n",
      "Accuracy of 0: 0.0%\n",
      "Accuracy of 1: 0.0%\n",
      "Accuracy of 2: 0.0%\n",
      "Accuracy of 3: 0.0%\n",
      "Accuracy of 4: 0.0%\n",
      "Accuracy of 5: 0.0%\n",
      "Accuracy of 6: 0.0%\n",
      "Accuracy of 7: 100.0%\n",
      "Accuracy of 8: 0.0%\n",
      "Accuracy of 9: 0.0%\n",
      "\n",
      "Overall accuracy: 10.3%\n",
      "\n",
      "\n",
      "Epoch  1 loss: 2.313\n",
      "Epoch  2 loss: 2.313\n",
      "Epoch  3 loss: 2.313\n",
      "Epoch  4 loss: 2.313\n",
      "Epoch  5 loss: 2.313\n",
      "Epoch  6 loss: 2.313\n",
      "Epoch  7 loss: 2.313\n",
      "Epoch  8 loss: 2.313\n",
      "Epoch  9 loss: 2.313\n",
      "Epoch 10 loss: 2.313\n",
      "Normal executed in 2.3 minutes\n",
      "\n",
      "Model with Normal initialization\n",
      "Accuracy of 0: 0.0%\n",
      "Accuracy of 1: 0.0%\n",
      "Accuracy of 2: 0.0%\n",
      "Accuracy of 3: 0.0%\n",
      "Accuracy of 4: 0.0%\n",
      "Accuracy of 5: 0.0%\n",
      "Accuracy of 6: 0.0%\n",
      "Accuracy of 7: 100.0%\n",
      "Accuracy of 8: 0.0%\n",
      "Accuracy of 9: 0.0%\n",
      "\n",
      "Overall accuracy: 10.3%\n",
      "\n",
      "\n",
      "Epoch  1 loss: 0.005\n",
      "Epoch  2 loss: 0.001\n",
      "Epoch  3 loss: 0.002\n",
      "Epoch  4 loss: 0.001\n",
      "Epoch  5 loss: 0.002\n",
      "Epoch  6 loss: 0.002\n",
      "Epoch  7 loss: 0.003\n",
      "Epoch  8 loss: 0.001\n",
      "Epoch  9 loss: 0.001\n",
      "Epoch 10 loss: 0.002\n",
      "Glorot executed in 2.3 minutes\n",
      "\n",
      "Model with Glorot initialization\n",
      "Accuracy of 0: 99.3%\n",
      "Accuracy of 1: 99.5%\n",
      "Accuracy of 2: 98.3%\n",
      "Accuracy of 3: 97.8%\n",
      "Accuracy of 4: 98.5%\n",
      "Accuracy of 5: 98.1%\n",
      "Accuracy of 6: 98.1%\n",
      "Accuracy of 7: 95.4%\n",
      "Accuracy of 8: 96.5%\n",
      "Accuracy of 9: 97.6%\n",
      "\n",
      "Overall accuracy: 97.9%\n",
      "\n",
      "\n"
     ]
    },
    {
     "data": {
      "image/png": "[encoded data removed]",
      "text/plain": [
       "<Figure size 1296x288 with 3 Axes>"
      ]
     },
     "metadata": {
      "needs_background": "light"
     },
     "output_type": "display_data"
    }
   ],
   "source": [
    "import time\n",
    "\n",
    "plt.figure(figsize=(18, 4))\n",
    "for i, init_type in enumerate(['Zeros','Normal','Glorot']):\n",
    "#for i, init_type in enumerate(['Glorot']):\n",
    "\n",
    "    start_time = time.time()\n",
    "    model = MLP(d0, d1, d2, d3, init_type)\n",
    "    loss = model.train(trainloader, n_epochs=N_EPOCHS, eta=1e-1, weight_decay=0.)\n",
    "    total_time = time.time() - start_time\n",
    "    print('%s executed in %.1f minutes\\n' % (init_type, total_time / 60.0))\n",
    "    axis = plt.subplot(1, 3, i + 1)\n",
    "    axis.plot(range(N_EPOCHS), loss, label='train')\n",
    "    axis.set_title(init_type)\n",
    "    axis.legend()\n",
    "    axis.set_ylabel('Loss')\n",
    "    axis.set_xlabel('Epochs')\n",
    "    get_accuracy(model)"
   ]
  },
  {
   "cell_type": "markdown",
   "metadata": {},
   "source": [
    "# Prediction"
   ]
  },
  {
   "cell_type": "code",
   "execution_count": 9,
   "metadata": {
    "colab": {
     "base_uri": "https://localhost:8080/",
     "height": 184
    },
    "colab_type": "code",
    "id": "_S8b-gzlTXQF",
    "outputId": "096f24ce-4bcb-45d5-924d-8739f4fb6353",
    "scrolled": true
   },
   "outputs": [
    {
     "name": "stdout",
     "output_type": "stream",
     "text": [
      "Prediction:  [7 2 1 0 4 1 4 9 5 9 0 6 9 0 1 5]\n"
     ]
    },
    {
     "data": {
      "image/png": "[encoded data removed]",
      "text/plain": [
       "<Figure size 432x288 with 1 Axes>"
      ]
     },
     "metadata": {
      "needs_background": "light"
     },
     "output_type": "display_data"
    }
   ],
   "source": [
    "dataiter = iter(testloader)\n",
    "images, labels = dataiter.next()\n",
    "x = images.view(BATCH_SIZE, -1)\n",
    "show_batch(images)\n",
    "print('Prediction: ', model.predict(x))"
   ]
  },
  {
   "cell_type": "markdown",
   "metadata": {},
   "source": [
    "# Finite Differences"
   ]
  },
  {
   "cell_type": "code",
   "execution_count": 10,
   "metadata": {},
   "outputs": [],
   "source": [
    "def finite_diff(model, x, y, param_list, p=10, eps=1e-5):\n",
    "    eps = eps * 2\n",
    "    h1, a1, h2, a2, o, os = model.forward(x)\n",
    "    gradients_bprop = model.backward(y, x, h1, a1, h2, a2, o, os)\n",
    "    loss_minus = model.loss(os, y)\n",
    "    gradients_finite_diff = []\n",
    "    for prm in param_list:\n",
    "        grad_fdiff = np.zeros(shape=prm.shape)\n",
    "        for index, v in np.ndenumerate(prm):\n",
    "            if sum(index) > p:\n",
    "                break\n",
    "            else:\n",
    "                prm[index] += eps\n",
    "                _, _, _, _, _, os = model.forward(x)\n",
    "                loss_plus = model.loss(os, y)\n",
    "                grad_fdiff[index] = (loss_plus - loss_minus) / eps\n",
    "                prm[index] -= eps\n",
    "        gradients_finite_diff.append(grad_fdiff)\n",
    "    return gradients_finite_diff"
   ]
  },
  {
   "cell_type": "code",
   "execution_count": 11,
   "metadata": {},
   "outputs": [],
   "source": [
    "def get_max_diff(model, x, y, N_list, param_idx, max_p=10):\n",
    "    '''Returns a vector with the maximal difference\n",
    "    for different values of N in N_list between the\n",
    "    true gradient calculated by back propagation and\n",
    "    the gradient calculated by finite differences'''\n",
    "    \n",
    "    max_diff = np.zeros(len(N_list))\n",
    "    param_list = model.parameters[param_idx]\n",
    "    \n",
    "    # p is the maximum number of elements of the weight\n",
    "    # matrix that will be considered\n",
    "    p = min(max_p, model.parameters[param_idx].size)\n",
    "\n",
    "    h1, a1, h2, a2, o, os = model.forward(x)\n",
    "    BP = model.backward(y, x, h1, a1, h2, a2, o, os)[param_idx]\n",
    "    for idx, N in enumerate(N_list):\n",
    "        eps = 1 / N\n",
    "        FD = finite_diff(model, x, y, param_list, p, eps)[param_idx]\n",
    "    \n",
    "        # flattens the difference matrix\n",
    "        diff = (BP - FD).reshape(model.parameters[param_idx].size)\n",
    "    \n",
    "        diff = diff[0:p]\n",
    "        max_diff[idx] = np.max(np.abs(diff))\n",
    "    \n",
    "    return max_diff\n"
   ]
  },
  {
   "cell_type": "code",
   "execution_count": 12,
   "metadata": {},
   "outputs": [
    {
     "name": "stdout",
     "output_type": "stream",
     "text": [
      "[[1.00000000e+00 2.93618707e-02]\n",
      " [2.00000000e+00 2.87753269e-02]\n",
      " [3.00000000e+00 2.82990681e-02]\n",
      " [4.00000000e+00 2.78495534e-02]\n",
      " [5.00000000e+00 2.74106066e-02]\n",
      " [1.00000000e+01 2.52629783e-02]\n",
      " [2.00000000e+01 2.48119387e-02]\n",
      " [3.00000000e+01 2.48119387e-02]\n",
      " [4.00000000e+01 2.48119387e-02]\n",
      " [5.00000000e+01 2.48119387e-02]\n",
      " [1.00000000e+02 2.48119387e-02]\n",
      " [2.00000000e+02 2.48119387e-02]\n",
      " [3.00000000e+02 2.48119387e-02]\n",
      " [4.00000000e+02 2.48119387e-02]\n",
      " [5.00000000e+02 2.48119387e-02]\n",
      " [1.00000000e+03 2.48119387e-02]\n",
      " [2.00000000e+03 2.48119387e-02]\n",
      " [3.00000000e+03 2.48119387e-02]\n",
      " [4.00000000e+03 2.48119387e-02]\n",
      " [5.00000000e+03 2.48119387e-02]\n",
      " [1.00000000e+04 2.48119387e-02]\n",
      " [2.00000000e+04 2.48119387e-02]\n",
      " [3.00000000e+04 2.48119387e-02]\n",
      " [4.00000000e+04 2.48119387e-02]\n",
      " [5.00000000e+04 2.48119387e-02]\n",
      " [1.00000000e+05 2.48119387e-02]\n",
      " [2.00000000e+05 2.48119387e-02]\n",
      " [3.00000000e+05 2.48119387e-02]\n",
      " [4.00000000e+05 2.48119387e-02]\n",
      " [5.00000000e+05 2.48119387e-02]]\n"
     ]
    },
    {
     "data": {
      "image/png": "[encoded data removed]",
      "text/plain": [
       "<Figure size 432x288 with 1 Axes>"
      ]
     },
     "metadata": {
      "needs_background": "light"
     },
     "output_type": "display_data"
    }
   ],
   "source": [
    "N_list = []\n",
    "PARAM_IDX = 3       # W2 is the 3rd parameter\n",
    "\n",
    "dataiter = iter(trainloader)\n",
    "images, labels = dataiter.next()\n",
    "\n",
    "# get the first sample and its label\n",
    "x = images[0].view(1, -1)\n",
    "y = onehot(labels, 10)[0]\n",
    "\n",
    "for i in range(6):    # 0 to 5\n",
    "    for k in range(1,6):      # 1 to 5\n",
    "        N_list.append(k * 10**i)\n",
    "\n",
    "max_diff = get_max_diff(model, x, y, N_list, PARAM_IDX)\n",
    "\n",
    "plt.semilogx(N_list, max_diff)\n",
    "plt.xlabel('N (log scale)')\n",
    "plt.ylabel('maximum difference')\n",
    "\n",
    "print(np.c_[N_list, max_diff])"
   ]
  }
 ],
 "metadata": {
  "accelerator": "GPU",
  "colab": {
   "collapsed_sections": [],
   "name": "IFT6135_HW1_Q1_MLP.ipynb",
   "provenance": [],
   "version": "0.3.2"
  },
  "kernelspec": {
   "display_name": "Python 3",
   "language": "python",
   "name": "python3"
  },
  "language_info": {
   "codemirror_mode": {
    "name": "ipython",
    "version": 3
   },
   "file_extension": ".py",
   "mimetype": "text/x-python",
   "name": "python",
   "nbconvert_exporter": "python",
   "pygments_lexer": "ipython3",
   "version": "3.6.6"
  }
 },
 "nbformat": 4,
 "nbformat_minor": 1
}
